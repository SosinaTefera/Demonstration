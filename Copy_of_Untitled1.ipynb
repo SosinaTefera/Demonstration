{
  "nbformat": 4,
  "nbformat_minor": 0,
  "metadata": {
    "colab": {
      "provenance": [],
      "authorship_tag": "ABX9TyOUmHcoZRGTIE6euMN+yVvw",
      "include_colab_link": true
    },
    "kernelspec": {
      "name": "python3",
      "display_name": "Python 3"
    },
    "language_info": {
      "name": "python"
    }
  },
  "cells": [
    {
      "cell_type": "markdown",
      "metadata": {
        "id": "view-in-github",
        "colab_type": "text"
      },
      "source": [
        "<a href=\"https://colab.research.google.com/github/SosinaTefera/Demonstration/blob/main/Copy_of_Untitled1.ipynb\" target=\"_parent\"><img src=\"https://colab.research.google.com/assets/colab-badge.svg\" alt=\"Open In Colab\"/></a>"
      ]
    },
    {
      "cell_type": "code",
      "execution_count": null,
      "metadata": {
        "id": "Jr14oZ_7v-z6"
      },
      "outputs": [],
      "source": [
        "numbers=1,2,3,4,5,6,7,8,9,10\n",
        "divise=numbetrs/3\n",
        "if divise in numbers:\n",
        "  print(\"\")"
      ]
    },
    {
      "cell_type": "code",
      "source": [],
      "metadata": {
        "id": "Ng7OBp6kbggN"
      },
      "execution_count": null,
      "outputs": []
    },
    {
      "cell_type": "code",
      "source": [
        "from os import name\n",
        "list=[\"sosina\",\"rahel\",\"miki\",\"afomiya\",\"hailsh\"]\n",
        "intial_list=[name[0] for name in list]\n",
        "print(intial_list)"
      ],
      "metadata": {
        "colab": {
          "base_uri": "https://localhost:8080/"
        },
        "id": "v69siociCmS-",
        "outputId": "5b0b8fcc-5c14-4dce-c0f4-c923b51d3103"
      },
      "execution_count": null,
      "outputs": [
        {
          "output_type": "stream",
          "name": "stdout",
          "text": [
            "['s', 'r', 'm', 'a', 'h']\n"
          ]
        }
      ]
    },
    {
      "cell_type": "code",
      "source": [
        "my_list=[\"sosina\",\"rahel\",\"miki\",\"afomiya\",\"hailsh\",\"maemir\",\"tefera\",\"birtukan\",\"sine\",\"diyana\"]\n",
        "new_list=[]\n",
        "for name in my_list:\n",
        "  if name.startswith(\"m\"):\n",
        "    new_list.append(name)\n",
        "    print(new_list)"
      ],
      "metadata": {
        "colab": {
          "base_uri": "https://localhost:8080/"
        },
        "id": "SA3G0hNPCnRt",
        "outputId": "d2e1edad-4db0-4ea7-a594-38aa5017c1ed"
      },
      "execution_count": null,
      "outputs": [
        {
          "output_type": "stream",
          "name": "stdout",
          "text": [
            "['miki']\n",
            "['miki', 'maemir']\n"
          ]
        }
      ]
    },
    {
      "cell_type": "code",
      "source": [
        "# Get the percentage from the user\n",
        "percentage = float(input(\"Enter the percentage: \"))\n",
        "\n",
        "if percentage < 0 or percentage > 100:\n",
        "    print(\"Please enter a valid percentage (0 to 100).\")\n",
        "else:\n",
        "    # Determine the grade based on the percentage\n",
        "    if percentage >= 90:\n",
        "        grade = 'A'\n",
        "    elif percentage >= 80:\n",
        "        grade = 'B'\n",
        "    elif percentage >= 70:\n",
        "        grade = 'C'\n",
        "    elif percentage >= 60:\n",
        "        grade = 'D'\n",
        "    else:\n",
        "        grade = 'F'\n",
        "\n",
        "    # Print the result\n",
        "    print(f\"The grade for {percentage}% is: {grade}\")"
      ],
      "metadata": {
        "colab": {
          "base_uri": "https://localhost:8080/"
        },
        "id": "QEi1864yCoic",
        "outputId": "765fdf2c-8392-4588-c681-d8191af2167d"
      },
      "execution_count": null,
      "outputs": [
        {
          "output_type": "stream",
          "name": "stdout",
          "text": [
            "Enter the percentage: 120\n",
            "Please enter a valid percentage (0 to 100).\n"
          ]
        }
      ]
    },
    {
      "cell_type": "code",
      "source": [
        "text=\"The\\nquick\\nbrown\\nfox\\njumps\\nover\\nthe\\nlazy\\ndog.\"\n",
        "text_2=\"The\\nquick\\nbrown\\nfox\\njumps\\nover\\nthe\\nlazy\\ndog.\"\n",
        "id_text=id(text)\n",
        "id_text_2=id(text_2)\n",
        "print(id_text)\n",
        "print(id_text_2)\n",
        "print(id_text==id_text_2)"
      ],
      "metadata": {
        "colab": {
          "base_uri": "https://localhost:8080/"
        },
        "id": "MRNccd-hmH84",
        "outputId": "eb928e4a-232b-47e2-f823-1b360c1a45f7"
      },
      "execution_count": null,
      "outputs": [
        {
          "output_type": "stream",
          "name": "stdout",
          "text": [
            "134423987534768\n",
            "134423987535216\n",
            "False\n"
          ]
        }
      ]
    },
    {
      "cell_type": "code",
      "source": [
        "area=27\n",
        "side=area**(1/2)\n",
        "print(side)"
      ],
      "metadata": {
        "colab": {
          "base_uri": "https://localhost:8080/"
        },
        "id": "zwVocrtwBGBA",
        "outputId": "d0419c8d-abd6-4736-c7b3-e296d7d59349"
      },
      "execution_count": null,
      "outputs": [
        {
          "output_type": "stream",
          "name": "stdout",
          "text": [
            "5.196152422706632\n"
          ]
        }
      ]
    },
    {
      "cell_type": "code",
      "source": [
        "Small_pizza_diameter=30\n",
        "Small_pizza_price=11.50\n",
        "Large_pizza_diameter=45\n",
        "Large_pizza_price=22\n",
        "Option_one=2*3.14*(Small_pizza_diameter/2)**2\n",
        "Option_two=3.14*(Large_pizza_diameter/2)**2\n",
        "print(Option_one)\n",
        "print(Option_two)"
      ],
      "metadata": {
        "id": "orgPYOQmG6mX",
        "colab": {
          "base_uri": "https://localhost:8080/"
        },
        "outputId": "1432a2ed-850e-470d-a736-ab6a4f674491"
      },
      "execution_count": null,
      "outputs": [
        {
          "output_type": "stream",
          "name": "stdout",
          "text": [
            "1413.0\n",
            "1589.625\n"
          ]
        }
      ]
    }
  ]
}